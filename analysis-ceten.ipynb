{
 "cells": [
  {
   "cell_type": "code",
   "execution_count": null,
   "metadata": {},
   "outputs": [],
   "source": [
    "import os\n",
    "import pandas as pd\n",
    "import numpy as np\n",
    "from tqdm import tqdm\n",
    "from collections import Counter\n"
   ]
  },
  {
   "cell_type": "code",
   "execution_count": null,
   "metadata": {},
   "outputs": [],
   "source": [
    "N_GRAM = 2\n",
    "EXCEL_FILE = 'sentences.xlsx'"
   ]
  },
  {
   "cell_type": "markdown",
   "metadata": {},
   "source": [
    "# Lendo arquivo\n",
    "\n",
    "Lendo arquivo CETEN.xml e adicionando _dummy characters_ nas linhas com o tamanho do n-gram\n",
    "\n",
    "- `<s>`: início da sentença\n",
    "- `</s>`: fim da sentença"
   ]
  },
  {
   "cell_type": "code",
   "execution_count": null,
   "metadata": {},
   "outputs": [],
   "source": [
    "def process_line(line, n_gram=3):\n",
    "    line = line.replace('\\n', '').strip()\n",
    "    line = line.replace('<s> ', '<s> '*(n_gram-1))\n",
    "    line = line.replace(' </s>', ' </s>'*(n_gram-1))\n",
    "    return tuple(line.split(' '))"
   ]
  },
  {
   "cell_type": "code",
   "execution_count": null,
   "metadata": {},
   "outputs": [],
   "source": [
    "filepath = './data/final.txt'\n",
    "lines = []\n",
    "n_lines = -1\n",
    "i = 0\n",
    "with open(filepath) as f:\n",
    "    for line in tqdm(f.readlines()[:n_lines]):\n",
    "        line = process_line(line, N_GRAM+1)\n",
    "        lines.append(line)"
   ]
  },
  {
   "cell_type": "code",
   "execution_count": null,
   "metadata": {},
   "outputs": [],
   "source": [
    "print(len(lines))#2835994\n",
    "lines[2758962]"
   ]
  },
  {
   "cell_type": "markdown",
   "metadata": {},
   "source": [
    "## Definindo vocabulário"
   ]
  },
  {
   "cell_type": "code",
   "execution_count": null,
   "metadata": {},
   "outputs": [],
   "source": [
    "%%time\n",
    "def get_vocabulary(lines):\n",
    "    vocabulary = {}\n",
    "    for sentence in tqdm(lines):\n",
    "        for word in sentence:\n",
    "            if word not in ['<s>', '</s>']:\n",
    "                vocabulary[word] = vocabulary.get(word, 0) + 1\n",
    "    return vocabulary\n",
    "\n",
    "vocabulary = get_vocabulary(lines)\n",
    "print ('Vocabulary size:', len(vocabulary))\n",
    "print('qtd ocorrências:', vocabulary['jobim'])\n",
    "\n",
    "max_value = max(vocabulary, key=vocabulary.get)\n",
    "print('A palavra mais frequente é:', max_value)\n",
    "print('Quantidade de ocorrências:', vocabulary[max_value])"
   ]
  },
  {
   "cell_type": "code",
   "execution_count": null,
   "metadata": {},
   "outputs": [],
   "source": [
    "most_common_words = Counter(vocabulary).most_common(10)\n",
    "\n",
    "print('As 10 palavras mais frequentes são:')\n",
    "for word, count in most_common_words:\n",
    "    print(f'{word}: {count}')"
   ]
  },
  {
   "cell_type": "markdown",
   "metadata": {},
   "source": [
    "# Extraindo N-grams\n",
    "\n",
    "Os n-gramas de um texto são todas as sentenças formadas por `N` palavras"
   ]
  },
  {
   "cell_type": "code",
   "execution_count": null,
   "metadata": {},
   "outputs": [],
   "source": [
    "def get_n_grams(lines, n=3):\n",
    "    n_grams = {}\n",
    "    for sentence in tqdm(lines):\n",
    "        sentence_length = len(sentence)\n",
    "        start_index = 0\n",
    "        end_index = start_index + n\n",
    "        while end_index <= sentence_length:\n",
    "\n",
    "            n_gram = sentence[start_index:end_index]\n",
    "            n_grams[n_gram] = n_grams.get(n_gram, 0) + 1\n",
    "\n",
    "            start_index +=1\n",
    "            end_index = start_index + n\n",
    "\n",
    "    return n_grams\n",
    "\n",
    "#sentence = [\n",
    "#    ('<s>', 'hoje', 'choveu', 'muito', 'no', 'rio', 'de', 'janeiro', 'hoje' '</s>'),\n",
    "   # ('<s>', 'hoje', 'choveu', 'muito', 'no', 'espírito', 'santo', '</s>'),\n",
    "   # ('<s>', 'hoje', 'nevou', 'muito', 'na', 'bahía', '</s>'),\n",
    "#]\n",
    "#xpto = get_n_grams(sentence, n=1)\n",
    "#xpto.get(('hoje', 'choveu'), 0)\n",
    "#xpto.get(('hoje'), 0)\n",
    "#len(xpto)"
   ]
  },
  {
   "cell_type": "markdown",
   "metadata": {},
   "source": [
    "# Calculando a _Forward Probability_\n",
    "\n",
    "$$P(word|sentence) = \\frac{Count(sentence+word)}{Count(sentence)}$$"
   ]
  },
  {
   "cell_type": "code",
   "execution_count": null,
   "metadata": {},
   "outputs": [],
   "source": [
    "def get_forward_probability(sentence, word, n_grams, n_plus1_grams, vocabulary):\n",
    "    if word not in vocabulary.keys():\n",
    "        print (f'Word {word} not in vocabulary')\n",
    "        return 0\n",
    "    \n",
    "    sentence_occurrences = 0\n",
    "    if isinstance(sentence, tuple):\n",
    "        full_sentence = (*sentence, word)\n",
    "        sentence_occurrences = n_grams.get(sentence, 0)\n",
    "    else :\n",
    "        full_sentence = (sentence, word)\n",
    "        if (sentence,) in n_grams:\n",
    "            sentence_occurrences = n_grams[sentence,]\n",
    "        \n",
    "    \n",
    "    full_sentence_occurences = n_plus1_grams.get(full_sentence, 0)\n",
    "\n",
    "    print (f'Ocorrências da sentença {sentence}: {sentence_occurrences}')\n",
    "    print (f'Ocorrências da sentença {full_sentence}: {full_sentence_occurences}')\n",
    "\n",
    "    if sentence_occurrences == 0:\n",
    "        return 0\n",
    "\n",
    "    return full_sentence_occurences/sentence_occurrences\n",
    "\n",
    "#N_GRAM = 1\n",
    "#n_grams = get_n_grams(lines, n=N_GRAM)\n",
    "#n_plus1_grams = get_n_grams(lines, n=N_GRAM+1)\n",
    "#sentence = ('que', 'lhe')\n",
    "#next_word = 'agradeço'\n",
    "#prob = get_forward_probability(sentence, next_word, n_grams, n_plus1_grams, vocabulary)\n",
    "#prob = get_forward_probability('se', 'descontrolou', n_grams, n_plus1_grams, vocabulary) #'se', 'descontrolou'\n",
    "#prob"
   ]
  },
  {
   "cell_type": "markdown",
   "metadata": {},
   "source": [
    "# Calculando a _backward probability_\n",
    "\n",
    "$$P(word|sentence) = \\frac{Count(word+sentence)}{Count(sentence)}$$"
   ]
  },
  {
   "cell_type": "code",
   "execution_count": null,
   "metadata": {},
   "outputs": [],
   "source": [
    "def get_backward_probability(sentence, word, n_grams, n_plus1_grams, vocabulary):\n",
    "    if word not in vocabulary.keys():\n",
    "        print (f'Word {word} not in vocabulary')\n",
    "        return 0\n",
    "\n",
    "    sentence_occurrences = 0\n",
    "    if isinstance(sentence, tuple):\n",
    "        full_sentence = (word, *sentence)\n",
    "        sentence_occurrences = n_grams.get(sentence, 0)\n",
    "    else :\n",
    "        full_sentence = (word, sentence)\n",
    "        if (sentence,) in n_grams:\n",
    "            sentence_occurrences = n_grams[sentence,]\n",
    "    \n",
    "    full_sentence_occurences = n_plus1_grams.get(full_sentence, 0)\n",
    "\n",
    "    print (f'Ocorrências da sentença {sentence}: {sentence_occurrences}')\n",
    "    print (f'Ocorrências da sentença {full_sentence}: {full_sentence_occurences}')\n",
    "\n",
    "    if sentence_occurrences == 0:\n",
    "        return 0\n",
    "\n",
    "    return full_sentence_occurences/sentence_occurrences\n",
    "\n",
    "#sentence = ('que', 'lhe')\n",
    "#previous_word = 'honra'\n",
    "#prob = get_backward_probability(sentence, previous_word, n_grams, n_plus1_grams, vocabulary)\n",
    "#prob"
   ]
  },
  {
   "cell_type": "code",
   "execution_count": null,
   "metadata": {},
   "outputs": [],
   "source": [
    "df_sentences = pd.read_excel(EXCEL_FILE, engine='openpyxl')\n",
    "df_sentences.tail()"
   ]
  },
  {
   "cell_type": "code",
   "execution_count": null,
   "metadata": {},
   "outputs": [],
   "source": [
    "def get_ngrams(sentence, n):\n",
    "    return tuple(sentence.split(' ')[-n:])\n",
    "#df_sentences['n_grams'] = df_sentences['target'].apply(lambda x: get_ngrams(x, N_GRAM))#N_GRAM =2\n",
    "#df_sentences[['target', 'n_grams']]"
   ]
  },
  {
   "attachments": {},
   "cell_type": "markdown",
   "metadata": {},
   "source": [
    "## Monta tuplas das sentencas"
   ]
  },
  {
   "cell_type": "code",
   "execution_count": null,
   "metadata": {},
   "outputs": [],
   "source": [
    "def get_wordsFromSentence(sentence):\n",
    "    palavras = sentence.lower().split()\n",
    "    return tuple(palavras)\n",
    "\n",
    "sentences_ngrams = df_sentences['target'].apply(lambda x: get_wordsFromSentence(x))\n",
    "df_sentences['n_grams_sentences'] = sentences_ngrams;\n",
    "\n",
    "print(df_sentences.iloc[0][['target', 'n_grams']])\n",
    "df_sentences.to_excel(EXCEL_FILE, index=False)"
   ]
  },
  {
   "attachments": {},
   "cell_type": "markdown",
   "metadata": {},
   "source": [
    "### Obtendo frequência de cada palavra"
   ]
  },
  {
   "cell_type": "code",
   "execution_count": null,
   "metadata": {},
   "outputs": [],
   "source": [
    "def getFrequency(words):\n",
    "    word_freq = []\n",
    "    for word in words:\n",
    "        qtdFreq = vocabulary.get(word, 0)\n",
    "        word_freq.append((word, qtdFreq))\n",
    "    return word_freq\n",
    "\n",
    "\n",
    "df_sentences['word-freq'] = sentences_ngrams.apply(lambda x: getFrequency(x))\n",
    "df_sentences.to_excel(EXCEL_FILE, index=False)"
   ]
  },
  {
   "attachments": {},
   "cell_type": "markdown",
   "metadata": {},
   "source": [
    "## Carregar 3 gram"
   ]
  },
  {
   "cell_type": "code",
   "execution_count": null,
   "metadata": {},
   "outputs": [],
   "source": [
    "N_GRAM = 2\n",
    "\n",
    "n_grams = get_n_grams(lines, n=N_GRAM)\n",
    "n_plus1_grams = get_n_grams(lines, n=N_GRAM+1)"
   ]
  },
  {
   "cell_type": "code",
   "execution_count": null,
   "metadata": {},
   "outputs": [],
   "source": [
    "print(\"n_grams size:\", len(n_grams))\n",
    "print(\"n_plus1_grams size:\", len(n_plus1_grams))"
   ]
  },
  {
   "attachments": {},
   "cell_type": "markdown",
   "metadata": {},
   "source": [
    "## Calcular 3 gram forward"
   ]
  },
  {
   "cell_type": "code",
   "execution_count": null,
   "metadata": {},
   "outputs": [],
   "source": [
    "def calculateProbForward(t):\n",
    "    results = []\n",
    "    for i in range(2, len(t)):\n",
    "        prev1, prev2, current = t[i-2:i+1]\n",
    "        prob = get_forward_probability((prev1, prev2), current, n_grams, n_plus1_grams, vocabulary)\n",
    "        results.append((prev1, prev2, current, prob))\n",
    "    return results\n",
    "\n",
    "df_sentences['3-gram-forward'] = sentences_ngrams.apply(lambda x: calculateProbForward(x))\n",
    "df_sentences.to_excel(EXCEL_FILE, index=False)"
   ]
  },
  {
   "attachments": {},
   "cell_type": "markdown",
   "metadata": {},
   "source": [
    "## Calcular 3 gram backward"
   ]
  },
  {
   "cell_type": "code",
   "execution_count": null,
   "metadata": {},
   "outputs": [],
   "source": [
    "def calculateProbBackward(t):\n",
    "    results = []\n",
    "    for i in range(2, len(t)):\n",
    "        prev1, prev2, current = t[i-2:i+1]\n",
    "        prob = get_backward_probability((prev2, current), prev1, n_grams, n_plus1_grams, vocabulary)\n",
    "        results.append((prev1, prev2, current, prob))\n",
    "    return results\n",
    "\n",
    "df_sentences['3-gram-backward'] = sentences_ngrams.apply(lambda x: calculateProbBackward(x))\n",
    "df_sentences.to_excel(EXCEL_FILE, index=False)"
   ]
  },
  {
   "attachments": {},
   "cell_type": "markdown",
   "metadata": {},
   "source": [
    "## Carregar 2 gram"
   ]
  },
  {
   "cell_type": "code",
   "execution_count": null,
   "metadata": {},
   "outputs": [],
   "source": [
    "N_GRAM = 1\n",
    "\n",
    "n_plus1_grams = n_grams\n",
    "n_grams = get_n_grams(lines, n=N_GRAM)"
   ]
  },
  {
   "cell_type": "code",
   "execution_count": null,
   "metadata": {},
   "outputs": [],
   "source": [
    "print(\"n_grams size:\", len(n_grams))\n",
    "print(\"n_plus1_grams size:\", len(n_plus1_grams))"
   ]
  },
  {
   "attachments": {},
   "cell_type": "markdown",
   "metadata": {},
   "source": [
    "## Calcular 2 gram forward"
   ]
  },
  {
   "cell_type": "code",
   "execution_count": null,
   "metadata": {},
   "outputs": [],
   "source": [
    "def calculateProb2Forward(t):\n",
    "    results = []\n",
    "    for i in range(len(t) - 1):\n",
    "        prev1 = t[i]\n",
    "        current = t[i+1]\n",
    "        prob = get_forward_probability(prev1, current, n_grams, n_plus1_grams, vocabulary)\n",
    "        results.append((prev1, current, prob))\n",
    "    return results\n",
    "\n",
    "df_sentences['2-gram-forward'] = sentences_ngrams.apply(lambda x: calculateProb2Forward(x))\n",
    "df_sentences.to_excel(EXCEL_FILE, index=False)"
   ]
  },
  {
   "attachments": {},
   "cell_type": "markdown",
   "metadata": {},
   "source": [
    "## Calcular 2 gram backward"
   ]
  },
  {
   "cell_type": "code",
   "execution_count": null,
   "metadata": {},
   "outputs": [],
   "source": [
    "def calculateProb2Backward(words):\n",
    "    results = []\n",
    "    for i in range(1, len(words)):\n",
    "        current = words[i]\n",
    "        prev = words[i-1]\n",
    "        prob = get_backward_probability(current, prev, n_grams, n_plus1_grams, vocabulary)\n",
    "        results.append((prev, current, prob))\n",
    "    return results\n",
    "\n",
    "\n",
    "df_sentences['2-gram-backward'] = sentences_ngrams.apply(lambda x: calculateProb2Backward(x))\n",
    "df_sentences.to_excel(EXCEL_FILE, index=False)"
   ]
  },
  {
   "attachments": {},
   "cell_type": "markdown",
   "metadata": {},
   "source": [
    "## teste forward_probability"
   ]
  },
  {
   "cell_type": "code",
   "execution_count": null,
   "metadata": {},
   "outputs": [],
   "source": [
    "sentence = ('homem', 'é')\n",
    "next_word = 'preto'\n",
    "prob = get_forward_probability(sentence, next_word, n_grams, n_plus1_grams, vocabulary)\n",
    "prob"
   ]
  },
  {
   "attachments": {},
   "cell_type": "markdown",
   "metadata": {},
   "source": [
    "### Apenas pesquisa de quais palavras aparecem depois de uma determinada sentença"
   ]
  },
  {
   "cell_type": "code",
   "execution_count": null,
   "metadata": {},
   "outputs": [],
   "source": [
    "def get_next_words(sentence, n_grams, n_plus1_grams):\n",
    "    full_sentences = {}\n",
    "    if n_grams.get(sentence, 0) == 0:\n",
    "        print (f'Sentença {sentence} não encontrada')\n",
    "        return full_sentences\n",
    "\n",
    "    for full_sentence in tqdm(n_plus1_grams.keys()):\n",
    "        if full_sentence[:-1] == sentence:\n",
    "            full_sentences[full_sentence] = n_plus1_grams.get(full_sentence)\n",
    "\n",
    "    return full_sentences\n",
    "\n",
    "sentence = ('homem', 'é')\n",
    "next_words = get_next_words(sentence, n_grams, n_plus1_grams)\n",
    "next_words\n"
   ]
  },
  {
   "attachments": {},
   "cell_type": "markdown",
   "metadata": {},
   "source": [
    "### Apenas pesquisa de quais palavras aparecem antes de uma determinada sentença"
   ]
  },
  {
   "cell_type": "code",
   "execution_count": null,
   "metadata": {},
   "outputs": [],
   "source": [
    "def get_previous_words(sentence, n_grams, n_plus1_grams):\n",
    "    full_sentences = {}\n",
    "    if n_grams.get(sentence, 0) == 0:\n",
    "        print (f'Sentença {sentence} não encontrada')\n",
    "        return full_sentences\n",
    "\n",
    "    for full_sentence in tqdm(n_plus1_grams.keys()):\n",
    "        if full_sentence[1:] == sentence:\n",
    "            full_sentences[full_sentence] = n_plus1_grams.get(full_sentence)\n",
    "\n",
    "    return full_sentences\n",
    "\n",
    "sentence = ('com', 'a')\n",
    "get_previous_words(sentence, n_grams, n_plus1_grams)\n"
   ]
  }
 ],
 "metadata": {
  "kernelspec": {
   "display_name": "base",
   "language": "python",
   "name": "python3"
  },
  "language_info": {
   "codemirror_mode": {
    "name": "ipython",
    "version": 3
   },
   "file_extension": ".py",
   "mimetype": "text/x-python",
   "name": "python",
   "nbconvert_exporter": "python",
   "pygments_lexer": "ipython3",
   "version": "3.9.13"
  },
  "orig_nbformat": 4,
  "vscode": {
   "interpreter": {
    "hash": "188edd0bf919717e1aa2844858aa39c69aae37a96173e9a330f2bfd166f011a7"
   }
  }
 },
 "nbformat": 4,
 "nbformat_minor": 2
}
